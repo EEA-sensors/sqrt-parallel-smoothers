{
 "cells": [
  {
   "cell_type": "code",
   "execution_count": 1,
   "metadata": {
    "pycharm": {
     "name": "#%%\n"
    }
   },
   "outputs": [],
   "source": [
    "import sys\n",
    "sys.path.append('..//')\n",
    "\n",
    "import jax\n",
    "import numpy as np\n",
    "import jax.numpy as jnp\n",
    "\n",
    "jax.config.update(\"jax_enable_x64\", True)\n",
    "\n",
    "from parsmooth._base import MVNStandard, FunctionalModel, MVNSqrt\n",
    "from parsmooth.linearization import cubature, extended, gauss_hermite\n",
    "from parsmooth.methods import iterated_smoothing\n",
    "from bearing_data import get_data, make_parameters"
   ]
  },
  {
   "cell_type": "code",
   "execution_count": 2,
   "metadata": {
    "scrolled": true,
    "pycharm": {
     "name": "#%%\n"
    }
   },
   "outputs": [],
   "source": [
    "s1 = jnp.array([-1.5, 0.5])  # First sensor location\n",
    "s2 = jnp.array([1., 1.])  # Second sensor location\n",
    "r = 0.5  # Observation noise (stddev)\n",
    "x0 = jnp.array([0.1, 0.2, 1, 0])  # initial true location\n",
    "dt = 0.01  # discretization time step\n",
    "qc = 0.01  # discretization noise\n",
    "qw = 0.1  # discretization noise\n",
    "\n",
    "T = 5000\n",
    "_, true_states, ys = get_data(x0, dt, r, T, s1, s2)\n",
    "Q, R, observation_function, transition_function = make_parameters(qc, qw, r, dt, s1, s2)\n",
    "\n",
    "chol_Q = jnp.linalg.cholesky(Q)\n",
    "chol_R = jnp.linalg.cholesky(R)\n",
    "\n",
    "m0 = jnp.array([-4., -1., 2., 7., 3.])\n",
    "chol_P0 = jnp.eye(5)\n",
    "P0 = jnp.eye(5)\n",
    "\n",
    "init = MVNStandard(m0, P0)\n",
    "chol_init = MVNSqrt(m0, chol_P0)\n",
    "\n",
    "initial_states =  MVNStandard(jnp.repeat(jnp.array([[-1., -1., 6., 4., 2.]]),T + 1, axis=0),\n",
    "                                                     jnp.repeat(jnp.eye(5).reshape(1, 5, 5), T + 1, axis=0))\n",
    "initial_states_sqrt = MVNSqrt(jnp.repeat(jnp.array([[-1., -1., 6., 4., 2.]]),T + 1, axis=0),\n",
    "                              jnp.repeat(jnp.eye(5).reshape(1, 5, 5), T + 1, axis=0))\n",
    "\n",
    "\n",
    "sqrt_transition_model = FunctionalModel(transition_function, MVNSqrt(jnp.zeros((5,)), chol_Q))\n",
    "transition_model = FunctionalModel(transition_function, MVNStandard(jnp.zeros((5,)), Q))\n",
    "\n",
    "sqrt_observation_model = FunctionalModel(observation_function, MVNSqrt(jnp.zeros((2,)), chol_R))\n",
    "observation_model = FunctionalModel(observation_function, MVNStandard(jnp.zeros((2,)), R))"
   ]
  },
  {
   "cell_type": "markdown",
   "metadata": {
    "pycharm": {
     "name": "#%% md\n"
    }
   },
   "source": [
    "# Cubature"
   ]
  },
  {
   "cell_type": "code",
   "execution_count": 3,
   "metadata": {
    "pycharm": {
     "name": "#%%\n"
    }
   },
   "outputs": [],
   "source": [
    "def cubature_sqrt_seq(y, initial_points_sqrt, iteration):\n",
    "    sqrt_seq_res = iterated_smoothing(y, chol_init, sqrt_transition_model, sqrt_observation_model,\n",
    "                                      cubature, initial_points_sqrt, False,\n",
    "                                      criterion=lambda i, *_: i < iteration)\n",
    "    return sqrt_seq_res\n",
    "\n",
    "\n",
    "def cubature_sqrt_par(y, initial_points_sqrt, iteration):\n",
    "    sqrt_par_res = iterated_smoothing(y, chol_init, sqrt_transition_model, sqrt_observation_model,\n",
    "                                      cubature, initial_points_sqrt, True,\n",
    "                                      criterion=lambda i, *_: i < iteration)\n",
    "    return sqrt_par_res\n",
    "\n",
    "\n",
    "def cubature_std_seq(y, initial_points, iteration):\n",
    "    std_seq_res = iterated_smoothing(y, init, transition_model, observation_model,\n",
    "                                     cubature, initial_points, False,\n",
    "                                     criterion=lambda i, *_: i < iteration)\n",
    "    return std_seq_res\n",
    "\n",
    "\n",
    "def cubature_std_par(y, initial_points, iteration):\n",
    "    std_par_res = iterated_smoothing(y, init, transition_model, observation_model,\n",
    "                                     cubature, initial_points, True,\n",
    "                                     criterion=lambda i, *_: i < iteration)\n",
    "    return std_par_res"
   ]
  },
  {
   "cell_type": "markdown",
   "metadata": {
    "pycharm": {
     "name": "#%% md\n"
    }
   },
   "source": [
    "# Extended"
   ]
  },
  {
   "cell_type": "code",
   "execution_count": 4,
   "metadata": {
    "pycharm": {
     "name": "#%%\n"
    }
   },
   "outputs": [],
   "source": [
    "def extended_sqrt_seq(y, initial_points_sqrt, iteration):\n",
    "    sqrt_seq_res = iterated_smoothing(y, chol_init, sqrt_transition_model, sqrt_observation_model,\n",
    "                                      extended, initial_points_sqrt, False,\n",
    "                                      criterion=lambda i, *_: i < iteration)\n",
    "    return sqrt_seq_res\n",
    "\n",
    "\n",
    "def extended_sqrt_par(y, initial_points_sqrt, iteration):\n",
    "    sqrt_par_res = iterated_smoothing(y, chol_init, sqrt_transition_model, sqrt_observation_model,\n",
    "                                      extended, initial_points_sqrt, True,\n",
    "                                      criterion=lambda i, *_: i < iteration)\n",
    "    return sqrt_par_res\n",
    "\n",
    "\n",
    "def extended_std_seq(y, initial_points, iteration):\n",
    "    std_seq_res = iterated_smoothing(y, init, transition_model, observation_model,\n",
    "                                     extended, initial_points, False,\n",
    "                                     criterion=lambda i, *_: i < iteration)\n",
    "    return std_seq_res\n",
    "\n",
    "\n",
    "def extended_std_par(y, initial_points, iteration):\n",
    "    std_par_res = iterated_smoothing(y, init, transition_model, observation_model,\n",
    "                                     extended, initial_points, True,\n",
    "                                     criterion=lambda i, *_: i < iteration)\n",
    "    return std_par_res"
   ]
  },
  {
   "cell_type": "markdown",
   "metadata": {
    "pycharm": {
     "name": "#%% md\n"
    }
   },
   "source": [
    "# Runtime comparison"
   ]
  },
  {
   "cell_type": "code",
   "execution_count": 5,
   "metadata": {
    "pycharm": {
     "name": "#%%\n"
    }
   },
   "outputs": [],
   "source": [
    "from jax import jit, devices, make_jaxpr\n",
    "import time\n",
    "from tqdm import tqdm"
   ]
  },
  {
   "cell_type": "code",
   "execution_count": 6,
   "metadata": {
    "pycharm": {
     "name": "#%%\n"
    }
   },
   "outputs": [],
   "source": [
    "def func(method, lengths, n_runs=100, n_iter=10, sqrt=False):\n",
    "    res_mean = []\n",
    "    res_median = []\n",
    "    for k, j in enumerate(lengths):\n",
    "        print(f\"Iteration {k+1} out of {len(lengths)}\", end=\"\\r\")\n",
    "        observations_slice = ys[:j]\n",
    "        \n",
    "        if sqrt:\n",
    "            init_linearizations_points_slice = initial_states_sqrt.mean[:j+1]\n",
    "            init_linearizations_chols_slice = initial_states_sqrt.chol[:j+1]\n",
    "            init_linearizations_states = MVNSqrt(init_linearizations_points_slice, init_linearizations_chols_slice)\n",
    "            args = observations_slice, init_linearizations_states, n_iter\n",
    "        else:\n",
    "            init_linearizations_points_slice = initial_states.mean[:j+1]\n",
    "            init_linearizations_covs_slice = initial_states.cov[:j+1]\n",
    "            init_linearizations_states = MVNStandard(init_linearizations_points_slice, init_linearizations_covs_slice)\n",
    "            args = observations_slice, init_linearizations_states, n_iter\n",
    "            \n",
    "        s = method(*args)                \n",
    "        s.mean.block_until_ready()\n",
    "        run_times = []\n",
    "        for i in range(n_runs):\n",
    "            tic = time.time()\n",
    "            s_states = method(*args)\n",
    "            s_states.mean.block_until_ready()\n",
    "            toc = time.time()\n",
    "            run_times.append(toc - tic)\n",
    "            print(f\"run {i+1} out of {n_runs}\", end=\"\\r\")\n",
    "        res_mean.append(np.mean(run_times))\n",
    "        res_median.append(np.median(run_times))\n",
    "    print()\n",
    "    return np.array(res_mean), np.array(res_median)\n",
    "\n",
    "lengths_space = np.logspace(2, int(np.log2(T)), num=10, base=2, dtype=int)\n"
   ]
  },
  {
   "cell_type": "code",
   "execution_count": 7,
   "metadata": {
    "pycharm": {
     "name": "#%%\n"
    }
   },
   "outputs": [],
   "source": [
    "gpu_cubature_sqrt_par = jit(cubature_sqrt_par, backend=\"gpu\")\n",
    "gpu_cubature_sqrt_seq = jit(cubature_sqrt_seq, backend=\"gpu\")\n",
    "gpu_cubature_std_seq = jit(cubature_std_seq, backend=\"gpu\")\n",
    "gpu_cubature_std_par = jit(cubature_std_par, backend=\"gpu\")\n",
    "\n",
    "gpu_extended_sqrt_par = jit(extended_sqrt_par, backend=\"gpu\")\n",
    "gpu_extended_sqrt_seq = jit(extended_sqrt_seq, backend=\"gpu\")\n",
    "gpu_extended_std_seq = jit(extended_std_seq, backend=\"gpu\")\n",
    "gpu_extended_std_par = jit(extended_std_par, backend=\"gpu\")"
   ]
  },
  {
   "cell_type": "code",
   "execution_count": 8,
   "metadata": {
    "scrolled": true,
    "pycharm": {
     "name": "#%%\n"
    }
   },
   "outputs": [
    {
     "name": "stdout",
     "output_type": "stream",
     "text": [
      "Iteration 10 out of 10\r\n"
     ]
    }
   ],
   "source": [
    "gpu_cubature_sqrt_par_mean_time, gpu_cubature_sqrt_par_median_time = func(gpu_cubature_sqrt_par, lengths_space, sqrt=True)\n"
   ]
  },
  {
   "cell_type": "code",
   "execution_count": 9,
   "metadata": {
    "pycharm": {
     "name": "#%%\n"
    }
   },
   "outputs": [
    {
     "name": "stdout",
     "output_type": "stream",
     "text": [
      "Iteration 10 out of 10\r\n"
     ]
    }
   ],
   "source": [
    "gpu_cubature_sqrt_seq_mean_time, gpu_cubature_sqrt_seq_median_time = func(gpu_cubature_sqrt_seq, lengths_space, sqrt = True)\n"
   ]
  },
  {
   "cell_type": "code",
   "execution_count": 10,
   "metadata": {
    "pycharm": {
     "name": "#%%\n"
    }
   },
   "outputs": [
    {
     "name": "stdout",
     "output_type": "stream",
     "text": [
      "Iteration 10 out of 10\r\n"
     ]
    }
   ],
   "source": [
    "gpu_cubature_std_seq_mean_time, gpu_cubature_std_seq_median_time = func(gpu_cubature_std_seq, lengths_space, sqrt = False)\n"
   ]
  },
  {
   "cell_type": "code",
   "execution_count": 11,
   "metadata": {
    "pycharm": {
     "name": "#%%\n"
    }
   },
   "outputs": [
    {
     "name": "stdout",
     "output_type": "stream",
     "text": [
      "Iteration 10 out of 10\r\n"
     ]
    }
   ],
   "source": [
    "gpu_cubature_std_par_mean_time, gpu_cubature_std_par_median_time = func(gpu_cubature_std_par, lengths_space, sqrt = False)\n"
   ]
  },
  {
   "cell_type": "code",
   "execution_count": 12,
   "metadata": {
    "pycharm": {
     "name": "#%%\n"
    }
   },
   "outputs": [
    {
     "name": "stdout",
     "output_type": "stream",
     "text": [
      "Iteration 10 out of 10\r\n"
     ]
    }
   ],
   "source": [
    "gpu_extended_sqrt_par_mean_time, gpu_extended_sqrt_par_median_time = func(gpu_extended_sqrt_par, lengths_space, sqrt=True)\n"
   ]
  },
  {
   "cell_type": "code",
   "execution_count": 13,
   "metadata": {
    "pycharm": {
     "name": "#%%\n"
    }
   },
   "outputs": [
    {
     "name": "stdout",
     "output_type": "stream",
     "text": [
      "Iteration 10 out of 10\r\n"
     ]
    }
   ],
   "source": [
    "gpu_extended_sqrt_seq_mean_time, gpu_extended_sqrt_seq_median_time = func(gpu_extended_sqrt_seq, lengths_space, sqrt=True)\n"
   ]
  },
  {
   "cell_type": "code",
   "execution_count": 14,
   "metadata": {
    "pycharm": {
     "name": "#%%\n"
    }
   },
   "outputs": [
    {
     "name": "stdout",
     "output_type": "stream",
     "text": [
      "Iteration 10 out of 10\r\n"
     ]
    }
   ],
   "source": [
    "gpu_extended_std_seq_mean_time, gpu_extended_std_seq_median_time = func(gpu_extended_std_seq, lengths_space, sqrt=False)\n"
   ]
  },
  {
   "cell_type": "code",
   "execution_count": 15,
   "metadata": {
    "pycharm": {
     "name": "#%%\n"
    }
   },
   "outputs": [
    {
     "name": "stdout",
     "output_type": "stream",
     "text": [
      "Iteration 10 out of 10\r\n"
     ]
    }
   ],
   "source": [
    "gpu_extended_std_par_mean_time, gpu_extended_std_par_median_time = func(gpu_extended_std_par, lengths_space, sqrt=False)\n"
   ]
  },
  {
   "cell_type": "code",
   "execution_count": 16,
   "metadata": {
    "pycharm": {
     "name": "#%%\n"
    }
   },
   "outputs": [],
   "source": [
    "jnp.savez(\"new_outputs/GPU-cubature-newtria-T5e3-100runs-mean-median-time\",\n",
    "          gpu_cubature_std_seq_mean_time=gpu_cubature_std_seq_mean_time,\n",
    "          gpu_cubature_std_seq_median_time=gpu_cubature_std_seq_median_time,\n",
    "          \n",
    "          gpu_cubature_std_par_mean_time=gpu_cubature_std_par_mean_time,\n",
    "          gpu_cubature_std_par_median_time=gpu_cubature_std_par_median_time,\n",
    "          \n",
    "          gpu_cubature_sqrt_seq_mean_time=gpu_cubature_sqrt_seq_mean_time,\n",
    "          gpu_cubature_sqrt_seq_median_time=gpu_cubature_sqrt_seq_median_time,\n",
    "          \n",
    "          gpu_cubature_sqrt_par_mean_time=gpu_cubature_sqrt_par_mean_time,\n",
    "          gpu_cubature_sqrt_par_median_time=gpu_cubature_sqrt_par_median_time)"
   ]
  },
  {
   "cell_type": "code",
   "execution_count": 17,
   "metadata": {
    "pycharm": {
     "name": "#%%\n"
    }
   },
   "outputs": [],
   "source": [
    "jnp.savez(\"new_outputs/GPU-extended-newtria-T5e3-100runs-mean-mediantime\",\n",
    "          gpu_extended_std_seq_mean_time=gpu_extended_std_seq_mean_time,\n",
    "          gpu_extended_std_seq_median_time=gpu_extended_std_seq_median_time,\n",
    "          \n",
    "          gpu_extended_std_par_mean_time=gpu_extended_std_par_mean_time,\n",
    "          gpu_extended_std_par_median_time=gpu_extended_std_par_median_time,\n",
    "          \n",
    "          gpu_extended_sqrt_seq_mean_time=gpu_extended_sqrt_seq_mean_time,\n",
    "          gpu_extended_sqrt_seq_median_time=gpu_extended_sqrt_seq_median_time,\n",
    "          \n",
    "          gpu_extended_sqrt_par_mean_time=gpu_extended_sqrt_par_mean_time,\n",
    "          gpu_extended_sqrt_par_median_time=gpu_extended_sqrt_par_median_time)"
   ]
  },
  {
   "cell_type": "code",
   "execution_count": null,
   "metadata": {
    "pycharm": {
     "name": "#%%\n"
    }
   },
   "outputs": [],
   "source": []
  }
 ],
 "metadata": {
  "kernelspec": {
   "display_name": "Python 3",
   "language": "python",
   "name": "python3"
  },
  "language_info": {
   "codemirror_mode": {
    "name": "ipython",
    "version": 3
   },
   "file_extension": ".py",
   "mimetype": "text/x-python",
   "name": "python",
   "nbconvert_exporter": "python",
   "pygments_lexer": "ipython3",
   "version": "3.8.8"
  }
 },
 "nbformat": 4,
 "nbformat_minor": 1
}