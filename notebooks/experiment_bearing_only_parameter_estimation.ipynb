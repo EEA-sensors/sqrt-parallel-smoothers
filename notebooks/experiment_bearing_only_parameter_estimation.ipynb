{
 "cells": [
  {
   "cell_type": "code",
   "execution_count": 2,
   "metadata": {},
   "outputs": [],
   "source": [
    "import sys\n",
    "sys.path.append('..//')\n",
    "\n",
    "import jax\n",
    "import numpy as np\n",
    "import jax.numpy as jnp\n",
    "import scipy\n",
    "from functools import partial\n",
    "from jax.test_util import check_grads\n",
    "from scipy.optimize import fmin_bfgs\n",
    "from scipy.optimize import fmin\n",
    "from scipy.optimize import minimize\n",
    "import matplotlib.pyplot as plt\n",
    "import pandas as pd\n",
    "\n",
    "jax.config.update(\"jax_enable_x64\", True)\n",
    "\n",
    "from parsmooth._base import MVNStandard, FunctionalModel, MVNSqrt\n",
    "from parsmooth.linearization import cubature, extended, gauss_hermite\n",
    "from parsmooth.methods import iterated_smoothing\n",
    "from bearings_utils import make_parameters\n",
    "from bearing_data import get_data, inverse_bearings\n"
   ]
  },
  {
   "cell_type": "code",
   "execution_count": 1,
   "metadata": {
    "scrolled": true
   },
   "outputs": [],
   "source": [
    "linearization_method = extended\n",
    "\n",
    "s1 = jnp.array([-1., 0.5])  # First sensor location\n",
    "s2 = jnp.array([1., 1.])  # Second sensor location\n",
    "x0 = jnp.array([0.1, 0.2, 1, 0])  # initial true location\n",
    "dt = 0.01  # discretization time step\n",
    "qc = 0.1  # discretization noise\n",
    "qw = 0.1  # discretization noise\n",
    "\n",
    "r_true = 0.05\n",
    "\n",
    "T = 50\n",
    "_, true_states, ys = get_data(x0, dt, r_true, T, s1, s2)\n",
    "Q, _, observation_function, transition_function = make_parameters(qc, qw, r_true, dt, s1, s2)\n",
    "\n",
    "chol_Q = jnp.linalg.cholesky(Q)\n",
    "# chol_R = jnp.linalg.cholesky(R)\n",
    "\n",
    "m0 = jnp.array([2., 0, 0, 0, 0])\n",
    "P0 = jnp.diag(jnp.array([0.5**2, 0.5**2, 0.5**2, 0.5**2, 1.]))\n",
    "chol_P0 = scipy.linalg.cholesky(P0)\n",
    "\n",
    "init = MVNStandard(m0, P0)\n",
    "chol_init = MVNSqrt(m0, chol_P0)\n",
    "\n",
    "initial_states =  MVNStandard(jnp.repeat(jnp.array([[0.4, 0.15, 0.9, 1, 1]]),T + 1, axis=0),\n",
    "                                                     jnp.repeat(jnp.eye(5).reshape(1, 5, 5), T + 1, axis=0))\n",
    "initial_states_sqrt = MVNSqrt(jnp.repeat(jnp.array([[0.4, 0.15, 0.9, 1, 1]]),T + 1, axis=0),\n",
    "                              jnp.repeat(jnp.eye(5).reshape(1, 5, 5), T + 1, axis=0))\n",
    "\n",
    "\n",
    "sqrt_transition_model = FunctionalModel(transition_function, MVNSqrt(jnp.zeros((5,)), chol_Q))\n",
    "transition_model = FunctionalModel(transition_function, MVNStandard(jnp.zeros((5,)), Q))\n",
    "\n",
    "\n",
    "# true_states = true_states.astype(np.float64)"
   ]
  },
  {
   "cell_type": "code",
   "execution_count": 3,
   "metadata": {},
   "outputs": [],
   "source": [
    "#standard\n",
    "@jax.jit\n",
    "def get_ell_std(prec_r):\n",
    "    r = 1 / prec_r[0]\n",
    "    R = jnp.diag(jnp.array([r ** 2, 0.1 ** 2]))\n",
    "    observation_model = FunctionalModel(observation_function, MVNStandard(jnp.zeros((2,)), R))  \n",
    "    \n",
    "    _, ell = iterated_smoothing(ys, init, transition_model, observation_model,\n",
    "                                               linearization_method, initial_states, True,\n",
    "                                               criterion=lambda i, *_: i < 50,\n",
    "                                               return_loglikelihood = True)\n",
    "    return -ell\n",
    "\n",
    "grad_ell_std = jax.jit(jax.value_and_grad(get_ell_std))"
   ]
  },
  {
   "cell_type": "code",
   "execution_count": 4,
   "metadata": {},
   "outputs": [],
   "source": [
    "gpu_grad_ell_std = jax.jit(grad_ell_std, backend=\"gpu\")\n",
    "\n"
   ]
  },
  {
   "cell_type": "code",
   "execution_count": 2,
   "metadata": {},
   "outputs": [],
   "source": [
    "def wrap_func_std(r):\n",
    "    loss, grad_val = gpu_grad_ell_std(r)\n",
    "    return np.array(loss, dtype=np.float64), np.array(grad_val, dtype=np.float64)\n",
    "r0 = np.array([10.])\n",
    "minimize(wrap_func_std, r0, jac=True, method=\"L-BFGS-B\", bounds=[(0, 100)])\n"
   ]
  },
  {
   "cell_type": "code",
   "execution_count": 6,
   "metadata": {},
   "outputs": [],
   "source": [
    "#square-root\n",
    "@jax.jit\n",
    "def get_ell_sqrt(prec_r):\n",
    "    r = 1 / prec_r[0]\n",
    "    chol_R = jnp.diag(jnp.array([r, 0.1]))\n",
    "    observation_model_sqrt = FunctionalModel(observation_function, MVNSqrt(jnp.zeros((2,)), chol_R)) \n",
    "    \n",
    "    _, ell = iterated_smoothing(ys, chol_init, sqrt_transition_model, observation_model_sqrt,\n",
    "                                               linearization_method, initial_states_sqrt, True,\n",
    "                                               criterion=lambda i, *_: i < 50,\n",
    "                                               return_loglikelihood = True)\n",
    "    return -ell\n",
    "\n",
    "grad_ell_sqrt = jax.jit(jax.value_and_grad(get_ell_sqrt))\n"
   ]
  },
  {
   "cell_type": "code",
   "execution_count": 7,
   "metadata": {},
   "outputs": [],
   "source": [
    "gpu_grad_ell_sqrt = jax.jit(grad_ell_sqrt, backend=\"gpu\")"
   ]
  },
  {
   "cell_type": "code",
   "execution_count": 3,
   "metadata": {},
   "outputs": [],
   "source": [
    "def wrap_func_sqrt(r):\n",
    "    loss, grad_val = gpu_grad_ell_sqrt(r)\n",
    "    return np.array(loss, dtype=np.float64), np.array(grad_val, dtype=np.float64)\n",
    "r0 = np.array([10.])\n",
    "minimize(wrap_func_sqrt, r0, jac=True, method=\"L-BFGS-B\", bounds=[(0, 100)])\n"
   ]
  },
  {
   "cell_type": "raw",
   "metadata": {},
   "source": [
    "jnp.savez(\"pe_ell_std_extended_T50_par\",\n",
    "          ell_std_extended_T50_par = np.array(jax.vmap(lambda r: get_ell_std(r))(np.linspace(10, 50)[:, None])),\n",
    "          grad_ell_std_extended_T50_par = np.array(jax.vmap(lambda r: grad_ell_std(r))(np.linspace(10, 50)[:, None])[1]),\n",
    "          theta_par_std = 1 / minimize(wrap_func_std, r0, jac=True, method=\"L-BFGS-B\", bounds=[(0, 100)]).x)\n",
    "\n",
    "jnp.savez(\"pe_ell_sqrt_extended_T50_par\",\n",
    "          ell_sqrt_extended_T50_par = np.array(jax.vmap(lambda r: get_ell_sqrt(r))(np.linspace(10, 50)[:, None])),\n",
    "          grad_ell_sqrt_extended_T50_par = np.array(jax.vmap(lambda r: grad_ell_sqrt(r))(np.linspace(10, 50)[:, None])[1]),\n",
    "          theta_par_sqrt = 1 / minimize(wrap_func_sqrt, r0, jac=True, method=\"L-BFGS-B\", bounds=[(0, 100)]).x)\n",
    "\n"
   ]
  },
  {
   "cell_type": "code",
   "execution_count": 2,
   "metadata": {},
   "outputs": [],
   "source": [
    "with np.load(\"pe_ell_std_extended_T50_par.npz\") as loaded:\n",
    "    ell_std_extended_T50_par = loaded[\"ell_std_extended_T50_par\"]\n",
    "    grad_ell_std_extended_T50_par = loaded[\"grad_ell_std_extended_T50_par\"]\n",
    "    theta_par_std = loaded[\"theta_par_std\"]\n",
    "    \n",
    "with np.load(\"pe_ell_sqrt_extended_T50_par.npz\") as loaded:\n",
    "    ell_sqrt_extended_T50_par = loaded[\"ell_sqrt_extended_T50_par\"]\n",
    "    grad_ell_sqrt_extended_T50_par = loaded[\"grad_ell_sqrt_extended_T50_par\"]\n",
    "    theta_par_sqrt = loaded[\"theta_par_sqrt\"]\n",
    "\n"
   ]
  },
  {
   "cell_type": "code",
   "execution_count": 3,
   "metadata": {},
   "outputs": [
    {
     "name": "stdout",
     "output_type": "stream",
     "text": [
      "[0.04934241]\n",
      "[0.04934242]\n"
     ]
    },
    {
     "data": {
      "image/png": "[encoded data removed]",
      "text/plain": [
       "<Figure size 720x576 with 1 Axes>"
      ]
     },
     "metadata": {
      "needs_background": "light"
     },
     "output_type": "display_data"
    }
   ],
   "source": [
    "plt.figure(figsize=(10,8))\n",
    "plt.plot(np.flip(1/np.linspace(10, 50)),np.flip(ell_std_extended_T50_par))\n",
    "plt.plot(np.flip(1/np.linspace(10, 50)),np.flip(ell_sqrt_extended_T50_par))\n",
    "plt.grid()\n",
    "\n",
    "print(theta_par_std)\n",
    "print(theta_par_sqrt)\n",
    "\n"
   ]
  },
  {
   "cell_type": "code",
   "execution_count": 4,
   "metadata": {},
   "outputs": [
    {
     "data": {
      "image/png": "[encoded data removed]",
      "text/plain": [
       "<Figure size 720x576 with 1 Axes>"
      ]
     },
     "metadata": {
      "needs_background": "light"
     },
     "output_type": "display_data"
    }
   ],
   "source": [
    "plt.figure(figsize=(10,8))\n",
    "plt.plot(np.flip(1/np.linspace(10, 50)),np.flip(grad_ell_std_extended_T50_par))\n",
    "plt.plot(np.flip(1/np.linspace(10, 50)),np.flip(grad_ell_sqrt_extended_T50_par))\n",
    "plt.axhline(y = 0, color = 'r', linestyle = '--')\n",
    "plt.grid()"
   ]
  },
  {
   "cell_type": "code",
   "execution_count": 12,
   "metadata": {},
   "outputs": [],
   "source": [
    "data = np.stack([np.flip(1/np.linspace(10, 50)),\n",
    "                 np.flip(ell_std_extended_T50_par),\n",
    "                 np.flip(ell_sqrt_extended_T50_par),\n",
    "                 np.flip(grad_ell_std_extended_T50_par[:,0]),\n",
    "                 np.flip(grad_ell_sqrt_extended_T50_par)[:,0]],\n",
    "                 axis=1)\n",
    "\n",
    "columns = [\"ell\",\n",
    "           \"ell_std_extended_par\",\n",
    "           \"ell_sqrt_extended_par\",\n",
    "           \"grad_ell_std_extended_par\",\n",
    "           \"grad_ell_sqrt_extended_par\"]\n",
    "\n",
    "df = pd.DataFrame(data=data, columns=columns)\n",
    "df.to_csv(\"pe_extended_ell_par.csv\")"
   ]
  },
  {
   "cell_type": "code",
   "execution_count": null,
   "metadata": {},
   "outputs": [],
   "source": []
  }
 ],
 "metadata": {
  "kernelspec": {
   "display_name": "Python 3 (ipykernel)",
   "language": "python",
   "name": "python3"
  },
  "language_info": {
   "codemirror_mode": {
    "name": "ipython",
    "version": 3
   },
   "file_extension": ".py",
   "mimetype": "text/x-python",
   "name": "python",
   "nbconvert_exporter": "python",
   "pygments_lexer": "ipython3",
   "version": "3.8.8"
  }
 },
 "nbformat": 4,
 "nbformat_minor": 1
}