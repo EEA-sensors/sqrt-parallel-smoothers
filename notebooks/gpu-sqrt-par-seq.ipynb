{
 "cells": [
  {
   "cell_type": "code",
   "execution_count": 1,
   "id": "c0b9b0bf",
   "metadata": {},
   "outputs": [],
   "source": [
    "import sys\n",
    "\n",
    "import jax as jax\n",
    "\n",
    "sys.path.append('..//')\n",
    "\n",
    "import jax\n",
    "import numpy as np\n",
    "import jax.numpy as jnp\n",
    "import matplotlib.pyplot as plt\n",
    "from jax import jit\n",
    "import time\n",
    "import warnings\n",
    "\n",
    "jax.config.update(\"jax_enable_x64\", False)\n",
    "jax.config.update(\"jax_platform_name\", \"gpu\")\n",
    "\n",
    "from parsmooth._base import MVNStandard, FunctionalModel, MVNSqrt\n",
    "from parsmooth.linearization import cubature\n",
    "from parsmooth.methods import iterated_smoothing\n",
    "from tests.bearings.bearings_utils import make_parameters\n",
    "from bearing_data import get_data"
   ]
  },
  {
   "cell_type": "code",
   "execution_count": 2,
   "id": "c154142b",
   "metadata": {},
   "outputs": [],
   "source": [
    "warnings.simplefilter(\"ignore\")"
   ]
  },
  {
   "cell_type": "code",
   "execution_count": 3,
   "id": "ab0fee27",
   "metadata": {
    "scrolled": true
   },
   "outputs": [],
   "source": [
    "\n",
    "s1 = jnp.array([-1.5, 0.5])  # First sensor location\n",
    "s2 = jnp.array([1., 1.])  # Second sensor location\n",
    "r = 0.5  # Observation noise (stddev)\n",
    "x0 = jnp.array([0.1, 0.2, 1, 0])  # initial true location\n",
    "dt = 0.01  # discretization time step\n",
    "qc = 0.01  # discretization noise\n",
    "qw = 0.1  # discretization noise\n",
    "\n",
    "T = 5000\n",
    "_, true_states, ys = get_data(x0, dt, r, T, s1, s2)\n",
    "Q, R, observation_function, transition_function = make_parameters(qc, qw, r, dt, s1, s2)\n",
    "\n",
    "chol_Q = jnp.linalg.cholesky(Q)\n",
    "chol_R = jnp.linalg.cholesky(R)\n",
    "\n",
    "m0 = jnp.array([-4., -1., 2., 7., 3.])\n",
    "chol_P0 = jnp.eye(5)\n",
    "P0 = jnp.eye(5)\n",
    "\n",
    "init = MVNStandard(m0, P0)\n",
    "chol_init = MVNSqrt(m0, chol_P0)\n",
    "\n",
    "initial_states =  MVNStandard(jnp.repeat(jnp.array([[-1., -1., 6., 4., 2.]]),T + 1, axis=0),\n",
    "                                                     jnp.repeat(jnp.eye(5).reshape(1, 5, 5), T + 1, axis=0))\n",
    "initial_states_sqrt = MVNSqrt(jnp.repeat(jnp.array([[-1., -1., 6., 4., 2.]]),T + 1, axis=0),\n",
    "                              jnp.repeat(jnp.eye(5).reshape(1, 5, 5), T + 1, axis=0))\n",
    "\n",
    "\n",
    "sqrt_transition_model = FunctionalModel(transition_function, MVNSqrt(jnp.zeros((5,)), chol_Q))\n",
    "transition_model = FunctionalModel(transition_function, MVNStandard(jnp.zeros((5,)), Q))\n",
    "\n",
    "sqrt_observation_model = FunctionalModel(observation_function, MVNSqrt(jnp.zeros((2,)), chol_R))\n",
    "observation_model = FunctionalModel(observation_function, MVNStandard(jnp.zeros((2,)), R))"
   ]
  },
  {
   "cell_type": "code",
   "execution_count": 4,
   "id": "42cbfd9f",
   "metadata": {},
   "outputs": [],
   "source": [
    "def cubature_sqrt_seq(y, initial_points_sqrt, iteration):\n",
    "    sqrt_seq_res = iterated_smoothing(y, chol_init, sqrt_transition_model, sqrt_observation_model,\n",
    "                                      cubature, initial_points_sqrt, False,\n",
    "                                      criterion=lambda i, *_: i < iteration)\n",
    "    return sqrt_seq_res\n",
    "\n"
   ]
  },
  {
   "cell_type": "code",
   "execution_count": 5,
   "id": "49733805",
   "metadata": {},
   "outputs": [],
   "source": [
    "def cubature_sqrt_par(y, initial_points_sqrt, iteration):\n",
    "    sqrt_par_res = iterated_smoothing(y, chol_init, sqrt_transition_model, sqrt_observation_model,\n",
    "                                      cubature, initial_points_sqrt, True,\n",
    "                                      criterion=lambda i, *_: i < iteration)\n",
    "    return sqrt_par_res\n",
    "\n"
   ]
  },
  {
   "cell_type": "code",
   "execution_count": 6,
   "id": "9678de9c",
   "metadata": {},
   "outputs": [],
   "source": [
    "def func(method, lengths, n_runs=1, n_iter=10, sqrt=False):\n",
    "    res_mean = []\n",
    "    for k, j in enumerate(lengths):\n",
    "        print(f\"Iteration {k+1} out of {len(lengths)}\", end=\"\\r\")\n",
    "        observations_slice = ys[:j]\n",
    "        \n",
    "        if sqrt:\n",
    "            init_linearizations_points_slice = initial_states_sqrt.mean[:j+1]\n",
    "            init_linearizations_chols_slice = initial_states_sqrt.chol[:j+1]\n",
    "            init_linearizations_states = MVNSqrt(init_linearizations_points_slice, init_linearizations_chols_slice)\n",
    "            args = observations_slice, init_linearizations_states, n_iter\n",
    "        else:\n",
    "            init_linearizations_points_slice = initial_states.mean[:j+1]\n",
    "            init_linearizations_covs_slice = initial_states.cov[:j+1]\n",
    "            init_linearizations_states = MVNStandard(init_linearizations_points_slice, init_linearizations_covs_slice)\n",
    "            args = observations_slice, init_linearizations_states, n_iter\n",
    "            \n",
    "        s = method(*args)                \n",
    "        s.mean.block_until_ready()\n",
    "        run_times = []\n",
    "        for _ in range(n_runs):\n",
    "            tic = time.time()\n",
    "            s_states = method(*args)\n",
    "            s_states.mean.block_until_ready()\n",
    "            toc = time.time()\n",
    "            run_times.append(toc - tic)\n",
    "        res_mean.append(np.mean(run_times))\n",
    "    print()\n",
    "    return np.array(res_mean)"
   ]
  },
  {
   "cell_type": "code",
   "execution_count": 7,
   "id": "2b5eec5d",
   "metadata": {},
   "outputs": [],
   "source": [
    "lengths_space = np.logspace(2, int(np.log2(T)), num=10, base=2, dtype=int)\n"
   ]
  },
  {
   "cell_type": "code",
   "execution_count": 8,
   "id": "6f0972e6",
   "metadata": {},
   "outputs": [],
   "source": [
    "gpu_cubature_sqrt_par = jit(cubature_sqrt_par, backend=\"gpu\")\n",
    "gpu_cubature_sqrt_seq = jit(cubature_sqrt_seq, backend=\"gpu\")\n"
   ]
  },
  {
   "cell_type": "code",
   "execution_count": 9,
   "id": "b7582a26",
   "metadata": {},
   "outputs": [
    {
     "name": "stdout",
     "output_type": "stream",
     "text": [
      "Iteration 10 out of 10\r\n"
     ]
    }
   ],
   "source": [
    "warnings.filterwarnings(\"ignore\")\n",
    "\n",
    "gpu_cubature_sqrt_par_time = func(gpu_cubature_sqrt_par, lengths_space, sqrt=True)"
   ]
  },
  {
   "cell_type": "code",
   "execution_count": 10,
   "id": "03446d6f",
   "metadata": {},
   "outputs": [
    {
     "name": "stdout",
     "output_type": "stream",
     "text": [
      "Iteration 5 out of 10\r"
     ]
    },
    {
     "ename": "KeyboardInterrupt",
     "evalue": "",
     "output_type": "error",
     "traceback": [
      "\u001B[0;31m---------------------------------------------------------------------------\u001B[0m",
      "\u001B[0;31mKeyboardInterrupt\u001B[0m                         Traceback (most recent call last)",
      "\u001B[0;32m/tmp/ipykernel_104233/2293317107.py\u001B[0m in \u001B[0;36m<module>\u001B[0;34m\u001B[0m\n\u001B[1;32m      1\u001B[0m \u001B[0mwarnings\u001B[0m\u001B[0;34m.\u001B[0m\u001B[0mfilterwarnings\u001B[0m\u001B[0;34m(\u001B[0m\u001B[0;34m\"ignore\"\u001B[0m\u001B[0;34m)\u001B[0m\u001B[0;34m\u001B[0m\u001B[0;34m\u001B[0m\u001B[0m\n\u001B[0;32m----> 2\u001B[0;31m \u001B[0mgpu_cubature_sqrt_seq_time\u001B[0m \u001B[0;34m=\u001B[0m \u001B[0mfunc\u001B[0m\u001B[0;34m(\u001B[0m\u001B[0mgpu_cubature_sqrt_seq\u001B[0m\u001B[0;34m,\u001B[0m \u001B[0mlengths_space\u001B[0m\u001B[0;34m,\u001B[0m \u001B[0msqrt\u001B[0m \u001B[0;34m=\u001B[0m \u001B[0;32mTrue\u001B[0m\u001B[0;34m)\u001B[0m\u001B[0;34m\u001B[0m\u001B[0;34m\u001B[0m\u001B[0m\n\u001B[0m\u001B[1;32m      3\u001B[0m \u001B[0;34m\u001B[0m\u001B[0m\n\u001B[1;32m      4\u001B[0m \u001B[0;34m\u001B[0m\u001B[0m\n\u001B[1;32m      5\u001B[0m \u001B[0;34m\u001B[0m\u001B[0m\n",
      "\u001B[0;32m/tmp/ipykernel_104233/1023580660.py\u001B[0m in \u001B[0;36mfunc\u001B[0;34m(method, lengths, n_runs, n_iter, sqrt)\u001B[0m\n\u001B[1;32m     16\u001B[0m             \u001B[0margs\u001B[0m \u001B[0;34m=\u001B[0m \u001B[0mobservations_slice\u001B[0m\u001B[0;34m,\u001B[0m \u001B[0minit_linearizations_states\u001B[0m\u001B[0;34m,\u001B[0m \u001B[0mn_iter\u001B[0m\u001B[0;34m\u001B[0m\u001B[0;34m\u001B[0m\u001B[0m\n\u001B[1;32m     17\u001B[0m \u001B[0;34m\u001B[0m\u001B[0m\n\u001B[0;32m---> 18\u001B[0;31m         \u001B[0ms\u001B[0m \u001B[0;34m=\u001B[0m \u001B[0mmethod\u001B[0m\u001B[0;34m(\u001B[0m\u001B[0;34m*\u001B[0m\u001B[0margs\u001B[0m\u001B[0;34m)\u001B[0m\u001B[0;34m\u001B[0m\u001B[0;34m\u001B[0m\u001B[0m\n\u001B[0m\u001B[1;32m     19\u001B[0m         \u001B[0ms\u001B[0m\u001B[0;34m.\u001B[0m\u001B[0mmean\u001B[0m\u001B[0;34m.\u001B[0m\u001B[0mblock_until_ready\u001B[0m\u001B[0;34m(\u001B[0m\u001B[0;34m)\u001B[0m\u001B[0;34m\u001B[0m\u001B[0;34m\u001B[0m\u001B[0m\n\u001B[1;32m     20\u001B[0m         \u001B[0mrun_times\u001B[0m \u001B[0;34m=\u001B[0m \u001B[0;34m[\u001B[0m\u001B[0;34m]\u001B[0m\u001B[0;34m\u001B[0m\u001B[0;34m\u001B[0m\u001B[0m\n",
      "    \u001B[0;31m[... skipping hidden 1 frame]\u001B[0m\n",
      "\u001B[0;32m~/PycharmProjects/sqrt-parallel-smoothers/venv/lib/python3.8/site-packages/jax/_src/api.py\u001B[0m in \u001B[0;36mcache_miss\u001B[0;34m(*args, **kwargs)\u001B[0m\n\u001B[1;32m    409\u001B[0m       \u001B[0m_check_arg\u001B[0m\u001B[0;34m(\u001B[0m\u001B[0marg\u001B[0m\u001B[0;34m)\u001B[0m\u001B[0;34m\u001B[0m\u001B[0;34m\u001B[0m\u001B[0m\n\u001B[1;32m    410\u001B[0m     \u001B[0mflat_fun\u001B[0m\u001B[0;34m,\u001B[0m \u001B[0mout_tree\u001B[0m \u001B[0;34m=\u001B[0m \u001B[0mflatten_fun\u001B[0m\u001B[0;34m(\u001B[0m\u001B[0mf\u001B[0m\u001B[0;34m,\u001B[0m \u001B[0min_tree\u001B[0m\u001B[0;34m)\u001B[0m\u001B[0;34m\u001B[0m\u001B[0;34m\u001B[0m\u001B[0m\n\u001B[0;32m--> 411\u001B[0;31m     out_flat = xla.xla_call(\n\u001B[0m\u001B[1;32m    412\u001B[0m         \u001B[0mflat_fun\u001B[0m\u001B[0;34m,\u001B[0m \u001B[0;34m*\u001B[0m\u001B[0margs_flat\u001B[0m\u001B[0;34m,\u001B[0m\u001B[0;34m\u001B[0m\u001B[0;34m\u001B[0m\u001B[0m\n\u001B[1;32m    413\u001B[0m         \u001B[0mdevice\u001B[0m\u001B[0;34m=\u001B[0m\u001B[0mdevice\u001B[0m\u001B[0;34m,\u001B[0m \u001B[0mbackend\u001B[0m\u001B[0;34m=\u001B[0m\u001B[0mbackend\u001B[0m\u001B[0;34m,\u001B[0m \u001B[0mname\u001B[0m\u001B[0;34m=\u001B[0m\u001B[0mflat_fun\u001B[0m\u001B[0;34m.\u001B[0m\u001B[0m__name__\u001B[0m\u001B[0;34m,\u001B[0m\u001B[0;34m\u001B[0m\u001B[0;34m\u001B[0m\u001B[0m\n",
      "\u001B[0;32m~/PycharmProjects/sqrt-parallel-smoothers/venv/lib/python3.8/site-packages/jax/core.py\u001B[0m in \u001B[0;36mbind\u001B[0;34m(self, fun, *args, **params)\u001B[0m\n\u001B[1;32m   1616\u001B[0m \u001B[0;34m\u001B[0m\u001B[0m\n\u001B[1;32m   1617\u001B[0m   \u001B[0;32mdef\u001B[0m \u001B[0mbind\u001B[0m\u001B[0;34m(\u001B[0m\u001B[0mself\u001B[0m\u001B[0;34m,\u001B[0m \u001B[0mfun\u001B[0m\u001B[0;34m,\u001B[0m \u001B[0;34m*\u001B[0m\u001B[0margs\u001B[0m\u001B[0;34m,\u001B[0m \u001B[0;34m**\u001B[0m\u001B[0mparams\u001B[0m\u001B[0;34m)\u001B[0m\u001B[0;34m:\u001B[0m\u001B[0;34m\u001B[0m\u001B[0;34m\u001B[0m\u001B[0m\n\u001B[0;32m-> 1618\u001B[0;31m     \u001B[0;32mreturn\u001B[0m \u001B[0mcall_bind\u001B[0m\u001B[0;34m(\u001B[0m\u001B[0mself\u001B[0m\u001B[0;34m,\u001B[0m \u001B[0mfun\u001B[0m\u001B[0;34m,\u001B[0m \u001B[0;34m*\u001B[0m\u001B[0margs\u001B[0m\u001B[0;34m,\u001B[0m \u001B[0;34m**\u001B[0m\u001B[0mparams\u001B[0m\u001B[0;34m)\u001B[0m\u001B[0;34m\u001B[0m\u001B[0;34m\u001B[0m\u001B[0m\n\u001B[0m\u001B[1;32m   1619\u001B[0m \u001B[0;34m\u001B[0m\u001B[0m\n\u001B[1;32m   1620\u001B[0m   \u001B[0;32mdef\u001B[0m \u001B[0mprocess\u001B[0m\u001B[0;34m(\u001B[0m\u001B[0mself\u001B[0m\u001B[0;34m,\u001B[0m \u001B[0mtrace\u001B[0m\u001B[0;34m,\u001B[0m \u001B[0mfun\u001B[0m\u001B[0;34m,\u001B[0m \u001B[0mtracers\u001B[0m\u001B[0;34m,\u001B[0m \u001B[0mparams\u001B[0m\u001B[0;34m)\u001B[0m\u001B[0;34m:\u001B[0m\u001B[0;34m\u001B[0m\u001B[0;34m\u001B[0m\u001B[0m\n",
      "\u001B[0;32m~/PycharmProjects/sqrt-parallel-smoothers/venv/lib/python3.8/site-packages/jax/core.py\u001B[0m in \u001B[0;36mcall_bind\u001B[0;34m(primitive, fun, *args, **params)\u001B[0m\n\u001B[1;32m   1607\u001B[0m       params_tuple, out_axes_transforms)\n\u001B[1;32m   1608\u001B[0m   \u001B[0mtracers\u001B[0m \u001B[0;34m=\u001B[0m \u001B[0mmap\u001B[0m\u001B[0;34m(\u001B[0m\u001B[0mtop_trace\u001B[0m\u001B[0;34m.\u001B[0m\u001B[0mfull_raise\u001B[0m\u001B[0;34m,\u001B[0m \u001B[0margs\u001B[0m\u001B[0;34m)\u001B[0m\u001B[0;34m\u001B[0m\u001B[0;34m\u001B[0m\u001B[0m\n\u001B[0;32m-> 1609\u001B[0;31m   \u001B[0mouts\u001B[0m \u001B[0;34m=\u001B[0m \u001B[0mprimitive\u001B[0m\u001B[0;34m.\u001B[0m\u001B[0mprocess\u001B[0m\u001B[0;34m(\u001B[0m\u001B[0mtop_trace\u001B[0m\u001B[0;34m,\u001B[0m \u001B[0mfun\u001B[0m\u001B[0;34m,\u001B[0m \u001B[0mtracers\u001B[0m\u001B[0;34m,\u001B[0m \u001B[0mparams\u001B[0m\u001B[0;34m)\u001B[0m\u001B[0;34m\u001B[0m\u001B[0;34m\u001B[0m\u001B[0m\n\u001B[0m\u001B[1;32m   1610\u001B[0m   \u001B[0;32mreturn\u001B[0m \u001B[0mmap\u001B[0m\u001B[0;34m(\u001B[0m\u001B[0mfull_lower\u001B[0m\u001B[0;34m,\u001B[0m \u001B[0mapply_todos\u001B[0m\u001B[0;34m(\u001B[0m\u001B[0menv_trace_todo\u001B[0m\u001B[0;34m(\u001B[0m\u001B[0;34m)\u001B[0m\u001B[0;34m,\u001B[0m \u001B[0mouts\u001B[0m\u001B[0;34m)\u001B[0m\u001B[0;34m)\u001B[0m\u001B[0;34m\u001B[0m\u001B[0;34m\u001B[0m\u001B[0m\n\u001B[1;32m   1611\u001B[0m \u001B[0;34m\u001B[0m\u001B[0m\n",
      "\u001B[0;32m~/PycharmProjects/sqrt-parallel-smoothers/venv/lib/python3.8/site-packages/jax/core.py\u001B[0m in \u001B[0;36mprocess\u001B[0;34m(self, trace, fun, tracers, params)\u001B[0m\n\u001B[1;32m   1619\u001B[0m \u001B[0;34m\u001B[0m\u001B[0m\n\u001B[1;32m   1620\u001B[0m   \u001B[0;32mdef\u001B[0m \u001B[0mprocess\u001B[0m\u001B[0;34m(\u001B[0m\u001B[0mself\u001B[0m\u001B[0;34m,\u001B[0m \u001B[0mtrace\u001B[0m\u001B[0;34m,\u001B[0m \u001B[0mfun\u001B[0m\u001B[0;34m,\u001B[0m \u001B[0mtracers\u001B[0m\u001B[0;34m,\u001B[0m \u001B[0mparams\u001B[0m\u001B[0;34m)\u001B[0m\u001B[0;34m:\u001B[0m\u001B[0;34m\u001B[0m\u001B[0;34m\u001B[0m\u001B[0m\n\u001B[0;32m-> 1621\u001B[0;31m     \u001B[0;32mreturn\u001B[0m \u001B[0mtrace\u001B[0m\u001B[0;34m.\u001B[0m\u001B[0mprocess_call\u001B[0m\u001B[0;34m(\u001B[0m\u001B[0mself\u001B[0m\u001B[0;34m,\u001B[0m \u001B[0mfun\u001B[0m\u001B[0;34m,\u001B[0m \u001B[0mtracers\u001B[0m\u001B[0;34m,\u001B[0m \u001B[0mparams\u001B[0m\u001B[0;34m)\u001B[0m\u001B[0;34m\u001B[0m\u001B[0;34m\u001B[0m\u001B[0m\n\u001B[0m\u001B[1;32m   1622\u001B[0m \u001B[0;34m\u001B[0m\u001B[0m\n\u001B[1;32m   1623\u001B[0m   \u001B[0;32mdef\u001B[0m \u001B[0mpost_process\u001B[0m\u001B[0;34m(\u001B[0m\u001B[0mself\u001B[0m\u001B[0;34m,\u001B[0m \u001B[0mtrace\u001B[0m\u001B[0;34m,\u001B[0m \u001B[0mout_tracers\u001B[0m\u001B[0;34m,\u001B[0m \u001B[0mparams\u001B[0m\u001B[0;34m)\u001B[0m\u001B[0;34m:\u001B[0m\u001B[0;34m\u001B[0m\u001B[0;34m\u001B[0m\u001B[0m\n",
      "\u001B[0;32m~/PycharmProjects/sqrt-parallel-smoothers/venv/lib/python3.8/site-packages/jax/core.py\u001B[0m in \u001B[0;36mprocess_call\u001B[0;34m(self, primitive, f, tracers, params)\u001B[0m\n\u001B[1;32m    613\u001B[0m \u001B[0;34m\u001B[0m\u001B[0m\n\u001B[1;32m    614\u001B[0m   \u001B[0;32mdef\u001B[0m \u001B[0mprocess_call\u001B[0m\u001B[0;34m(\u001B[0m\u001B[0mself\u001B[0m\u001B[0;34m,\u001B[0m \u001B[0mprimitive\u001B[0m\u001B[0;34m,\u001B[0m \u001B[0mf\u001B[0m\u001B[0;34m,\u001B[0m \u001B[0mtracers\u001B[0m\u001B[0;34m,\u001B[0m \u001B[0mparams\u001B[0m\u001B[0;34m)\u001B[0m\u001B[0;34m:\u001B[0m\u001B[0;34m\u001B[0m\u001B[0;34m\u001B[0m\u001B[0m\n\u001B[0;32m--> 615\u001B[0;31m     \u001B[0;32mreturn\u001B[0m \u001B[0mprimitive\u001B[0m\u001B[0;34m.\u001B[0m\u001B[0mimpl\u001B[0m\u001B[0;34m(\u001B[0m\u001B[0mf\u001B[0m\u001B[0;34m,\u001B[0m \u001B[0;34m*\u001B[0m\u001B[0mtracers\u001B[0m\u001B[0;34m,\u001B[0m \u001B[0;34m**\u001B[0m\u001B[0mparams\u001B[0m\u001B[0;34m)\u001B[0m\u001B[0;34m\u001B[0m\u001B[0;34m\u001B[0m\u001B[0m\n\u001B[0m\u001B[1;32m    616\u001B[0m   \u001B[0mprocess_map\u001B[0m \u001B[0;34m=\u001B[0m \u001B[0mprocess_call\u001B[0m\u001B[0;34m\u001B[0m\u001B[0;34m\u001B[0m\u001B[0m\n\u001B[1;32m    617\u001B[0m \u001B[0;34m\u001B[0m\u001B[0m\n",
      "\u001B[0;32m~/PycharmProjects/sqrt-parallel-smoothers/venv/lib/python3.8/site-packages/jax/interpreters/xla.py\u001B[0m in \u001B[0;36m_xla_call_impl\u001B[0;34m(***failed resolving arguments***)\u001B[0m\n\u001B[1;32m    620\u001B[0m                    donated_invars, inline):\n\u001B[1;32m    621\u001B[0m   \u001B[0;32mdel\u001B[0m \u001B[0minline\u001B[0m  \u001B[0;31m# Only used at tracing time\u001B[0m\u001B[0;34m\u001B[0m\u001B[0;34m\u001B[0m\u001B[0m\n\u001B[0;32m--> 622\u001B[0;31m   compiled_fun = _xla_callable(fun, device, backend, name, donated_invars,\n\u001B[0m\u001B[1;32m    623\u001B[0m                                *unsafe_map(arg_spec, args))\n\u001B[1;32m    624\u001B[0m   \u001B[0;32mtry\u001B[0m\u001B[0;34m:\u001B[0m\u001B[0;34m\u001B[0m\u001B[0;34m\u001B[0m\u001B[0m\n",
      "\u001B[0;32m~/PycharmProjects/sqrt-parallel-smoothers/venv/lib/python3.8/site-packages/jax/linear_util.py\u001B[0m in \u001B[0;36mmemoized_fun\u001B[0;34m(fun, *args)\u001B[0m\n\u001B[1;32m    260\u001B[0m       \u001B[0mfun\u001B[0m\u001B[0;34m.\u001B[0m\u001B[0mpopulate_stores\u001B[0m\u001B[0;34m(\u001B[0m\u001B[0mstores\u001B[0m\u001B[0;34m)\u001B[0m\u001B[0;34m\u001B[0m\u001B[0;34m\u001B[0m\u001B[0m\n\u001B[1;32m    261\u001B[0m     \u001B[0;32melse\u001B[0m\u001B[0;34m:\u001B[0m\u001B[0;34m\u001B[0m\u001B[0;34m\u001B[0m\u001B[0m\n\u001B[0;32m--> 262\u001B[0;31m       \u001B[0mans\u001B[0m \u001B[0;34m=\u001B[0m \u001B[0mcall\u001B[0m\u001B[0;34m(\u001B[0m\u001B[0mfun\u001B[0m\u001B[0;34m,\u001B[0m \u001B[0;34m*\u001B[0m\u001B[0margs\u001B[0m\u001B[0;34m)\u001B[0m\u001B[0;34m\u001B[0m\u001B[0;34m\u001B[0m\u001B[0m\n\u001B[0m\u001B[1;32m    263\u001B[0m       \u001B[0mcache\u001B[0m\u001B[0;34m[\u001B[0m\u001B[0mkey\u001B[0m\u001B[0;34m]\u001B[0m \u001B[0;34m=\u001B[0m \u001B[0;34m(\u001B[0m\u001B[0mans\u001B[0m\u001B[0;34m,\u001B[0m \u001B[0mfun\u001B[0m\u001B[0;34m.\u001B[0m\u001B[0mstores\u001B[0m\u001B[0;34m)\u001B[0m\u001B[0;34m\u001B[0m\u001B[0;34m\u001B[0m\u001B[0m\n\u001B[1;32m    264\u001B[0m \u001B[0;34m\u001B[0m\u001B[0m\n",
      "\u001B[0;32m~/PycharmProjects/sqrt-parallel-smoothers/venv/lib/python3.8/site-packages/jax/interpreters/xla.py\u001B[0m in \u001B[0;36m_xla_callable\u001B[0;34m(fun, device, backend, name, donated_invars, *arg_specs)\u001B[0m\n\u001B[1;32m    692\u001B[0m \u001B[0;34m@\u001B[0m\u001B[0mlu\u001B[0m\u001B[0;34m.\u001B[0m\u001B[0mcache\u001B[0m\u001B[0;34m\u001B[0m\u001B[0;34m\u001B[0m\u001B[0m\n\u001B[1;32m    693\u001B[0m \u001B[0;32mdef\u001B[0m \u001B[0m_xla_callable\u001B[0m\u001B[0;34m(\u001B[0m\u001B[0mfun\u001B[0m\u001B[0;34m:\u001B[0m \u001B[0mlu\u001B[0m\u001B[0;34m.\u001B[0m\u001B[0mWrappedFun\u001B[0m\u001B[0;34m,\u001B[0m \u001B[0mdevice\u001B[0m\u001B[0;34m,\u001B[0m \u001B[0mbackend\u001B[0m\u001B[0;34m,\u001B[0m \u001B[0mname\u001B[0m\u001B[0;34m,\u001B[0m \u001B[0mdonated_invars\u001B[0m\u001B[0;34m,\u001B[0m \u001B[0;34m*\u001B[0m\u001B[0marg_specs\u001B[0m\u001B[0;34m)\u001B[0m\u001B[0;34m:\u001B[0m\u001B[0;34m\u001B[0m\u001B[0;34m\u001B[0m\u001B[0m\n\u001B[0;32m--> 694\u001B[0;31m   \u001B[0;32mreturn\u001B[0m \u001B[0mlower_xla_callable\u001B[0m\u001B[0;34m(\u001B[0m\u001B[0mfun\u001B[0m\u001B[0;34m,\u001B[0m \u001B[0mdevice\u001B[0m\u001B[0;34m,\u001B[0m \u001B[0mbackend\u001B[0m\u001B[0;34m,\u001B[0m \u001B[0mname\u001B[0m\u001B[0;34m,\u001B[0m \u001B[0mdonated_invars\u001B[0m\u001B[0;34m,\u001B[0m \u001B[0;34m*\u001B[0m\u001B[0marg_specs\u001B[0m\u001B[0;34m)\u001B[0m\u001B[0;34m.\u001B[0m\u001B[0mcompile\u001B[0m\u001B[0;34m(\u001B[0m\u001B[0;34m)\u001B[0m\u001B[0;34m.\u001B[0m\u001B[0munsafe_call\u001B[0m\u001B[0;34m\u001B[0m\u001B[0;34m\u001B[0m\u001B[0m\n\u001B[0m\u001B[1;32m    695\u001B[0m \u001B[0;34m\u001B[0m\u001B[0m\n\u001B[1;32m    696\u001B[0m \u001B[0;32mdef\u001B[0m \u001B[0mlower_xla_callable\u001B[0m\u001B[0;34m(\u001B[0m\u001B[0mfun\u001B[0m\u001B[0;34m:\u001B[0m \u001B[0mlu\u001B[0m\u001B[0;34m.\u001B[0m\u001B[0mWrappedFun\u001B[0m\u001B[0;34m,\u001B[0m \u001B[0mdevice\u001B[0m\u001B[0;34m,\u001B[0m \u001B[0mbackend\u001B[0m\u001B[0;34m,\u001B[0m \u001B[0mname\u001B[0m\u001B[0;34m,\u001B[0m \u001B[0mdonated_invars\u001B[0m\u001B[0;34m,\u001B[0m \u001B[0;34m*\u001B[0m\u001B[0marg_specs\u001B[0m\u001B[0;34m)\u001B[0m\u001B[0;34m:\u001B[0m\u001B[0;34m\u001B[0m\u001B[0;34m\u001B[0m\u001B[0m\n",
      "\u001B[0;32m~/PycharmProjects/sqrt-parallel-smoothers/venv/lib/python3.8/site-packages/jax/interpreters/xla.py\u001B[0m in \u001B[0;36mcompile\u001B[0;34m(self)\u001B[0m\n\u001B[1;32m    784\u001B[0m         \u001B[0mself\u001B[0m\u001B[0;34m.\u001B[0m\u001B[0m_executable\u001B[0m \u001B[0;34m=\u001B[0m \u001B[0mXlaCompiledComputation\u001B[0m\u001B[0;34m.\u001B[0m\u001B[0mfrom_trivial_jaxpr\u001B[0m\u001B[0;34m(\u001B[0m\u001B[0;34m*\u001B[0m\u001B[0mself\u001B[0m\u001B[0;34m.\u001B[0m\u001B[0mcompile_args\u001B[0m\u001B[0;34m)\u001B[0m\u001B[0;34m\u001B[0m\u001B[0;34m\u001B[0m\u001B[0m\n\u001B[1;32m    785\u001B[0m       \u001B[0;32melse\u001B[0m\u001B[0;34m:\u001B[0m\u001B[0;34m\u001B[0m\u001B[0;34m\u001B[0m\u001B[0m\n\u001B[0;32m--> 786\u001B[0;31m         \u001B[0mself\u001B[0m\u001B[0;34m.\u001B[0m\u001B[0m_executable\u001B[0m \u001B[0;34m=\u001B[0m \u001B[0mXlaCompiledComputation\u001B[0m\u001B[0;34m.\u001B[0m\u001B[0mfrom_xla_computation\u001B[0m\u001B[0;34m(\u001B[0m\u001B[0mself\u001B[0m\u001B[0;34m.\u001B[0m\u001B[0mhlo\u001B[0m\u001B[0;34m,\u001B[0m \u001B[0;34m*\u001B[0m\u001B[0mself\u001B[0m\u001B[0;34m.\u001B[0m\u001B[0mcompile_args\u001B[0m\u001B[0;34m)\u001B[0m\u001B[0;34m\u001B[0m\u001B[0;34m\u001B[0m\u001B[0m\n\u001B[0m\u001B[1;32m    787\u001B[0m     \u001B[0;32mreturn\u001B[0m \u001B[0mself\u001B[0m\u001B[0;34m.\u001B[0m\u001B[0m_executable\u001B[0m\u001B[0;34m\u001B[0m\u001B[0;34m\u001B[0m\u001B[0m\n\u001B[1;32m    788\u001B[0m \u001B[0;34m\u001B[0m\u001B[0m\n",
      "\u001B[0;32m~/PycharmProjects/sqrt-parallel-smoothers/venv/lib/python3.8/site-packages/jax/interpreters/xla.py\u001B[0m in \u001B[0;36mfrom_xla_computation\u001B[0;34m(xla_computation, nreps, device, backend, tuple_args, out_avals, kept_var_idx)\u001B[0m\n\u001B[1;32m    807\u001B[0m         device_assignment=(device.id,) if device else None)\n\u001B[1;32m    808\u001B[0m     \u001B[0moptions\u001B[0m\u001B[0;34m.\u001B[0m\u001B[0mparameter_is_tupled_arguments\u001B[0m \u001B[0;34m=\u001B[0m \u001B[0mtuple_args\u001B[0m\u001B[0;34m\u001B[0m\u001B[0;34m\u001B[0m\u001B[0m\n\u001B[0;32m--> 809\u001B[0;31m     \u001B[0mcompiled\u001B[0m \u001B[0;34m=\u001B[0m \u001B[0mcompile_or_get_cached\u001B[0m\u001B[0;34m(\u001B[0m\u001B[0mbackend\u001B[0m\u001B[0;34m,\u001B[0m \u001B[0mxla_computation\u001B[0m\u001B[0;34m,\u001B[0m \u001B[0moptions\u001B[0m\u001B[0;34m)\u001B[0m\u001B[0;34m\u001B[0m\u001B[0;34m\u001B[0m\u001B[0m\n\u001B[0m\u001B[1;32m    810\u001B[0m     \u001B[0;32mif\u001B[0m \u001B[0mnreps\u001B[0m \u001B[0;34m==\u001B[0m \u001B[0;36m1\u001B[0m\u001B[0;34m:\u001B[0m\u001B[0;34m\u001B[0m\u001B[0;34m\u001B[0m\u001B[0m\n\u001B[1;32m    811\u001B[0m       return XlaCompiledComputation(partial(\n",
      "\u001B[0;32m~/PycharmProjects/sqrt-parallel-smoothers/venv/lib/python3.8/site-packages/jax/interpreters/xla.py\u001B[0m in \u001B[0;36mcompile_or_get_cached\u001B[0;34m(backend, computation, compile_options)\u001B[0m\n\u001B[1;32m     81\u001B[0m             \u001B[0mcc\u001B[0m\u001B[0;34m.\u001B[0m\u001B[0mput_executable\u001B[0m\u001B[0;34m(\u001B[0m\u001B[0mcomputation\u001B[0m\u001B[0;34m,\u001B[0m \u001B[0mcompile_options\u001B[0m\u001B[0;34m,\u001B[0m \u001B[0mcompiled\u001B[0m\u001B[0;34m,\u001B[0m \u001B[0mbackend\u001B[0m\u001B[0;34m)\u001B[0m\u001B[0;34m\u001B[0m\u001B[0;34m\u001B[0m\u001B[0m\n\u001B[1;32m     82\u001B[0m             \u001B[0;32mreturn\u001B[0m \u001B[0mcompiled\u001B[0m\u001B[0;34m\u001B[0m\u001B[0;34m\u001B[0m\u001B[0m\n\u001B[0;32m---> 83\u001B[0;31m     \u001B[0;32mreturn\u001B[0m \u001B[0mbackend_compile\u001B[0m\u001B[0;34m(\u001B[0m\u001B[0mbackend\u001B[0m\u001B[0;34m,\u001B[0m \u001B[0mcomputation\u001B[0m\u001B[0;34m,\u001B[0m \u001B[0mcompile_options\u001B[0m\u001B[0;34m)\u001B[0m\u001B[0;34m\u001B[0m\u001B[0;34m\u001B[0m\u001B[0m\n\u001B[0m\u001B[1;32m     84\u001B[0m \u001B[0;34m\u001B[0m\u001B[0m\n\u001B[1;32m     85\u001B[0m \u001B[0;32mdef\u001B[0m \u001B[0midentity\u001B[0m\u001B[0;34m(\u001B[0m\u001B[0mx\u001B[0m\u001B[0;34m)\u001B[0m\u001B[0;34m:\u001B[0m \u001B[0;32mreturn\u001B[0m \u001B[0mx\u001B[0m\u001B[0;34m\u001B[0m\u001B[0;34m\u001B[0m\u001B[0m\n",
      "\u001B[0;32m~/PycharmProjects/sqrt-parallel-smoothers/venv/lib/python3.8/site-packages/jax/interpreters/xla.py\u001B[0m in \u001B[0;36mbackend_compile\u001B[0;34m(backend, built_c, options)\u001B[0m\n\u001B[1;32m    385\u001B[0m   \u001B[0;31m# we use a separate function call to ensure that XLA compilation appears\u001B[0m\u001B[0;34m\u001B[0m\u001B[0;34m\u001B[0m\u001B[0;34m\u001B[0m\u001B[0m\n\u001B[1;32m    386\u001B[0m   \u001B[0;31m# separately in Python profiling results\u001B[0m\u001B[0;34m\u001B[0m\u001B[0;34m\u001B[0m\u001B[0;34m\u001B[0m\u001B[0m\n\u001B[0;32m--> 387\u001B[0;31m   \u001B[0;32mreturn\u001B[0m \u001B[0mbackend\u001B[0m\u001B[0;34m.\u001B[0m\u001B[0mcompile\u001B[0m\u001B[0;34m(\u001B[0m\u001B[0mbuilt_c\u001B[0m\u001B[0;34m,\u001B[0m \u001B[0mcompile_options\u001B[0m\u001B[0;34m=\u001B[0m\u001B[0moptions\u001B[0m\u001B[0;34m)\u001B[0m\u001B[0;34m\u001B[0m\u001B[0;34m\u001B[0m\u001B[0m\n\u001B[0m\u001B[1;32m    388\u001B[0m \u001B[0;34m\u001B[0m\u001B[0m\n\u001B[1;32m    389\u001B[0m \u001B[0;32mdef\u001B[0m \u001B[0m_execute_compiled_primitive\u001B[0m\u001B[0;34m(\u001B[0m\u001B[0mprim\u001B[0m\u001B[0;34m,\u001B[0m \u001B[0mcompiled\u001B[0m\u001B[0;34m,\u001B[0m \u001B[0mresult_handler\u001B[0m\u001B[0;34m,\u001B[0m \u001B[0;34m*\u001B[0m\u001B[0margs\u001B[0m\u001B[0;34m)\u001B[0m\u001B[0;34m:\u001B[0m\u001B[0;34m\u001B[0m\u001B[0;34m\u001B[0m\u001B[0m\n",
      "\u001B[0;31mKeyboardInterrupt\u001B[0m: "
     ]
    }
   ],
   "source": [
    "warnings.filterwarnings(\"ignore\")\n",
    "gpu_cubature_sqrt_seq_time = func(gpu_cubature_sqrt_seq, lengths_space, sqrt = True)\n",
    "\n"
   ]
  },
  {
   "cell_type": "code",
   "execution_count": 11,
   "id": "ef756fbd",
   "metadata": {
    "pycharm": {
     "name": "#%%\n"
    }
   },
   "outputs": [
    {
     "data": {
      "text/plain": "<Figure size 720x504 with 1 Axes>",
      "image/png": "[encoded data removed]"
     },
     "metadata": {
      "needs_background": "light"
     },
     "output_type": "display_data"
    }
   ],
   "source": [
    "plt.figure(figsize=(10,7))\n",
    "plt.loglog(lengths_space, gpu_cubature_sqrt_par_time, label=\"cubature-sqrt-Par-GPU\", linestyle=\"-.\", linewidth=3)\n",
    "# plt.loglog(lengths_space, gpu_cubature_sqrt_seq_time, label=\"cubature-sqrt-Seq-GPU\", linestyle=\"-.\", linewidth=3)\n",
    "\n",
    "plt.grid(True, which=\"both\")\n",
    "plt.title(\"cubature-GPU, sequential v.s parallel\")\n",
    "plt.legend()\n",
    "plt.show()"
   ]
  },
  {
   "cell_type": "code",
   "execution_count": null,
   "outputs": [],
   "source": [],
   "metadata": {
    "collapsed": false,
    "pycharm": {
     "name": "#%%\n"
    }
   }
  },
  {
   "cell_type": "code",
   "execution_count": null,
   "outputs": [],
   "source": [],
   "metadata": {
    "collapsed": false,
    "pycharm": {
     "name": "#%%\n"
    }
   }
  }
 ],
 "metadata": {
  "kernelspec": {
   "display_name": "Python 3 (ipykernel)",
   "language": "python",
   "name": "python3"
  },
  "language_info": {
   "codemirror_mode": {
    "name": "ipython",
    "version": 3
   },
   "file_extension": ".py",
   "mimetype": "text/x-python",
   "name": "python",
   "nbconvert_exporter": "python",
   "pygments_lexer": "ipython3",
   "version": "3.9.7"
  }
 },
 "nbformat": 4,
 "nbformat_minor": 5
}