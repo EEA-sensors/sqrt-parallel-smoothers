{
 "cells": [
  {
   "cell_type": "code",
   "execution_count": 9,
   "id": "72291c75",
   "metadata": {},
   "outputs": [],
   "source": [
    "import sys\n",
    "sys.path.append('..//')\n",
    "\n",
    "import jax\n",
    "import numpy as np\n",
    "import jax.numpy as jnp\n",
    "from functools import partial\n",
    "import matplotlib.pyplot as plt\n",
    "from jax import jit, devices, make_jaxpr\n",
    "import time\n",
    "from tqdm import tqdm\n",
    "\n",
    "from parsmooth._base import MVNStandard, FunctionalModel, MVNSqrt\n",
    "from parsmooth.linearization import cubature, extended, gauss_hermite\n",
    "from parsmooth.methods import iterated_smoothing\n",
    "from bearings.bearings_utils import make_parameters\n",
    "from bearings.bearing_data import get_data"
   ]
  },
  {
   "cell_type": "code",
   "execution_count": 16,
   "id": "0e31d221",
   "metadata": {},
   "outputs": [],
   "source": [
    "import warnings\n",
    "\n",
    "def fxn():\n",
    "    warnings.warn(\"deprecated\", DeprecationWarning)\n",
    "\n",
    "with warnings.catch_warnings():\n",
    "    warnings.simplefilter(\"ignore\")\n",
    "    fxn()\n",
    "\n",
    "\n",
    "warnings.filterwarnings(\"ignore\")"
   ]
  },
  {
   "cell_type": "code",
   "execution_count": 11,
   "id": "ea10f751",
   "metadata": {
    "scrolled": true
   },
   "outputs": [],
   "source": [
    "linearization_method = cubature\n",
    "jax.config.update(\"jax_enable_x64\", True)\n",
    "\n",
    "s1 = jnp.array([-1.5, 0.5])  # First sensor location\n",
    "s2 = jnp.array([1., 1.])  # Second sensor location\n",
    "r = 0.5  # Observation noise (stddev)\n",
    "x0 = jnp.array([0.1, 0.2, 1, 0])  # initial true location\n",
    "dt = 0.01  # discretization time step\n",
    "qc = 0.01  # discretization noise\n",
    "qw = 0.1  # discretization noise\n",
    "\n",
    "T = 10000\n",
    "_, true_states, ys = get_data(x0, dt, r, T, s1, s2)\n",
    "Q, R, observation_function, transition_function = make_parameters(qc, qw, r, dt, s1, s2)\n",
    "\n",
    "chol_Q = jnp.linalg.cholesky(Q)\n",
    "chol_R = jnp.linalg.cholesky(R)\n",
    "\n",
    "m0 = jnp.array([-4., -1., 2., 7., 3.])\n",
    "chol_P0 = jnp.eye(5)\n",
    "P0 = jnp.eye(5)\n",
    "\n",
    "init = MVNStandard(m0, P0)\n",
    "chol_init = MVNSqrt(m0, chol_P0)\n",
    "\n",
    "initial_states =  MVNStandard(jnp.repeat(jnp.array([[-1., -1., 6., 4., 2.]]),T + 1, axis=0),\n",
    "                                                     jnp.repeat(jnp.eye(5).reshape(1, 5, 5), T + 1, axis=0))\n",
    "initial_states_sqrt = MVNSqrt(jnp.repeat(jnp.array([[-1., -1., 6., 4., 2.]]),T + 1, axis=0),\n",
    "                              jnp.repeat(jnp.eye(5).reshape(1, 5, 5), T + 1, axis=0))\n",
    "\n",
    "\n",
    "sqrt_transition_model = FunctionalModel(transition_function, MVNSqrt(jnp.zeros((5,)), chol_Q))\n",
    "transition_model = FunctionalModel(transition_function, MVNStandard(jnp.zeros((5,)), Q))\n",
    "\n",
    "sqrt_observation_model = FunctionalModel(observation_function, MVNSqrt(jnp.zeros((2,)), chol_R))\n",
    "observation_model = FunctionalModel(observation_function, MVNStandard(jnp.zeros((2,)), R))"
   ]
  },
  {
   "cell_type": "code",
   "execution_count": 12,
   "id": "f094fa6e",
   "metadata": {},
   "outputs": [],
   "source": [
    "def cubature_sqrt_seq(y, initial_points_sqrt, iteration):\n",
    "    sqrt_seq_res = iterated_smoothing(y, chol_init, sqrt_transition_model, sqrt_observation_model,\n",
    "                                      cubature, initial_points_sqrt, False,\n",
    "                                      criterion=lambda i, *_: i < iteration)\n",
    "    return sqrt_seq_res\n",
    "\n"
   ]
  },
  {
   "cell_type": "code",
   "execution_count": 13,
   "id": "fe59d223",
   "metadata": {},
   "outputs": [],
   "source": [
    "def cubature_sqrt_par(y, initial_points_sqrt, iteration):\n",
    "    sqrt_par_res = iterated_smoothing(y, chol_init, sqrt_transition_model, sqrt_observation_model,\n",
    "                                      cubature, initial_points_sqrt, True,\n",
    "                                      criterion=lambda i, *_: i < iteration)\n",
    "    return sqrt_par_res\n",
    "\n"
   ]
  },
  {
   "cell_type": "code",
   "execution_count": 14,
   "id": "3fa061ed",
   "metadata": {},
   "outputs": [],
   "source": [
    "def func(method, lengths, n_runs=1, n_iter=10, sqrt=False):\n",
    "    res_mean = []\n",
    "    for j in tqdm(lengths):\n",
    "        observations_slice = ys[:j]\n",
    "        \n",
    "        if sqrt:\n",
    "            init_linearizations_points_slice = initial_states_sqrt.mean[:j+1]\n",
    "            init_linearizations_chols_slice = initial_states_sqrt.chol[:j+1]\n",
    "            init_linearizations_states = MVNSqrt(init_linearizations_points_slice, init_linearizations_chols_slice)\n",
    "            args = observations_slice, init_linearizations_states, n_iter\n",
    "        else:\n",
    "            init_linearizations_points_slice = initial_states.mean[:j+1]\n",
    "            init_linearizations_covs_slice = initial_states.cov[:j+1]\n",
    "            init_linearizations_states = MVNStandard(init_linearizations_points_slice, init_linearizations_covs_slice)\n",
    "            args = observations_slice, init_linearizations_states, n_iter\n",
    "            \n",
    "        s = method(*args)                \n",
    "        s.mean.block_until_ready()\n",
    "        run_times = []\n",
    "        for _ in range(n_runs):\n",
    "            tic = time.time()\n",
    "            s_states = method(*args)\n",
    "            s_states.mean.block_until_ready()\n",
    "            toc = time.time()\n",
    "            run_times.append(toc - tic)\n",
    "        res_mean.append(np.mean(run_times))\n",
    "    return np.array(res_mean)\n",
    "\n",
    "\n"
   ]
  },
  {
   "cell_type": "code",
   "execution_count": 15,
   "id": "fd7120b7",
   "metadata": {},
   "outputs": [],
   "source": [
    "gpu_cubature_sqrt_par = jit(cubature_sqrt_par, backend=\"gpu\")\n",
    "gpu_cubature_sqrt_seq = jit(cubature_sqrt_seq, backend=\"gpu\")"
   ]
  },
  {
   "cell_type": "code",
   "execution_count": 7,
   "id": "23483f0d",
   "metadata": {},
   "outputs": [],
   "source": [
    "warnings.filterwarnings(\"ignore\")\n",
    "\n",
    "gpu_cubature_sqrt_par_time = func(gpu_cubature_sqrt_par, lengths_space, sqrt = True)\n"
   ]
  },
  {
   "cell_type": "code",
   "execution_count": null,
   "id": "65ace54f",
   "metadata": {},
   "outputs": [],
   "source": [
    "warnings.filterwarnings(\"ignore\")\n",
    "gpu_cubature_sqrt_seq_time = func(gpu_cubature_sqrt_seq, lengths_space, sqrt = True)\n"
   ]
  },
  {
   "cell_type": "code",
   "execution_count": null,
   "id": "c65e9215",
   "metadata": {},
   "outputs": [],
   "source": [
    "jnp.savez(\"GPU-cubature-sqrt-T10e4-time\",\n",
    "          gpu_cubature_sqrt_par_time=gpu_cubature_sqrt_par_time,\n",
    "          gpu_cubature_sqrt_seq_time=gpu_cubature_sqrt_seq_time)"
   ]
  },
  {
   "cell_type": "code",
   "execution_count": null,
   "id": "5d27644a",
   "metadata": {},
   "outputs": [],
   "source": [
    "plt.figure(figsize=(10,7))\n",
    "plt.loglog(lengths_space, gpu_cubature_sqrt_par_time, label=\"cubature-sqrt-Par-GPU\", linestyle=\"-.\", linewidth=3)\n",
    "plt.loglog(lengths_space, gpu_cubature_sqrt_seq_time, label=\"cubature-sqrt-Seq-GPU\", linestyle=\"-.\", linewidth=3)\n",
    "\n",
    "plt.grid(True, which=\"both\")\n",
    "plt.title(\"cubature-GPU, sequential v.s parallel\")\n",
    "plt.legend()\n",
    "plt.show()"
   ]
  }
 ],
 "metadata": {
  "kernelspec": {
   "display_name": "Python 3 (ipykernel)",
   "language": "python",
   "name": "python3"
  },
  "language_info": {
   "codemirror_mode": {
    "name": "ipython",
    "version": 3
   },
   "file_extension": ".py",
   "mimetype": "text/x-python",
   "name": "python",
   "nbconvert_exporter": "python",
   "pygments_lexer": "ipython3",
   "version": "3.9.7"
  }
 },
 "nbformat": 4,
 "nbformat_minor": 5
}
